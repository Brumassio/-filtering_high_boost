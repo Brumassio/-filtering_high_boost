{
 "cells": [
  {
   "cell_type": "code",
   "execution_count": null,
   "metadata": {},
   "outputs": [],
   "source": [
    "import numpy as np\n",
    "import cv2 \n",
    "import matplotlib.pyplot as plt\n"
   ]
  },
  {
   "cell_type": "code",
   "execution_count": null,
   "metadata": {},
   "outputs": [],
   "source": [
    "def atualiza_imagem(img, k):\n",
    "  np.clip(img, 0, 255).astype(np.uint8)\n",
    "  \n",
    "  # aplicar um filtro passa-baixa na imagem original para suavizá-la\n",
    "  filtro = np.ones((3,3), np.float32) / 9.0\n",
    "\n",
    "  img_suave = cv2.filter2D(img, -1, filtro)\n",
    "\n",
    "  # subtrair a imagem suavizada da imagem original para obter uma imagem de alta frequência\n",
    "  img_alta_freq = img - img_suave\n",
    "\n",
    "  # multiplicar a imagem de alta frequência pelo fator de realce (k)\n",
    "  img_realce = k * img_alta_freq\n",
    "\n",
    "  # adicionar o resultado à imagem original para obter a imagem final\n",
    "  img_final = img + img_realce\n",
    "  return img_final"
   ]
  },
  {
   "cell_type": "code",
   "execution_count": null,
   "metadata": {},
   "outputs": [],
   "source": [
    "# carregar a imagem a ser processada\n",
    "img = cv2.imread('Images/Fig0111(katrina_2005_08_29_NOAA).tif', cv2.IMREAD_GRAYSCALE)\n",
    "k = 1.5\n",
    "\n",
    "# chamando a função atualizar a imagem e atribuindo a imagem final a uma variável\n",
    "img_final = atualiza_imagem(img, k)\n",
    "\n",
    "#mostrar imagem original\n",
    "plt.imshow(img, cmap='gray')\n",
    "plt.title(\"Imagem Original\")\n",
    "plt.xticks([])\n",
    "plt.yticks([])\n",
    "plt.show()\n",
    "\n",
    "# salvar e mostrar a imagem final\n",
    "cv2.imwrite('imagem_final.jpg', img_final)\n",
    "plt.imshow(img_final, cmap='gray')\n",
    "plt.title(\"Imagem Modificada\")\n",
    "plt.xticks([])\n",
    "plt.yticks([])\n",
    "plt.show()"
   ]
  }
 ],
 "metadata": {
  "kernelspec": {
   "display_name": "Python 3",
   "language": "python",
   "name": "python3"
  },
  "language_info": {
   "codemirror_mode": {
    "name": "ipython",
    "version": 3
   },
   "file_extension": ".py",
   "mimetype": "text/x-python",
   "name": "python",
   "nbconvert_exporter": "python",
   "pygments_lexer": "ipython3",
   "version": "3.11.5"
  }
 },
 "nbformat": 4,
 "nbformat_minor": 2
}
